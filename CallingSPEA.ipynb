{
 "cells": [
  {
   "cell_type": "code",
   "execution_count": 1,
   "metadata": {},
   "outputs": [
    {
     "ename": "UndefVarError",
     "evalue": "UndefVarError: function_name not defined",
     "output_type": "error",
     "traceback": [
      "UndefVarError: function_name not defined",
      "",
      "Stacktrace:",
      " [1] top-level scope at In[1]:1"
     ]
    }
   ],
   "source": [
    "# Calling SPEA\n",
    "spea_function_name = SPEA(population_size = 50, archive_size = 50, mutation_rate = 0.1, min_values = [-1000], max_values = [1000], list_of_functions = [function_name, function_name2], generations = 100, mu = 1, eta = 1)"
   ]
  }
 ],
 "metadata": {
  "kernelspec": {
   "display_name": "Julia 1.3.0",
   "language": "julia",
   "name": "julia-1.3"
  },
  "language_info": {
   "file_extension": ".jl",
   "mimetype": "application/julia",
   "name": "julia",
   "version": "1.3.0"
  }
 },
 "nbformat": 4,
 "nbformat_minor": 2
}
