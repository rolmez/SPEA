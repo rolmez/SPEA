{
 "cells": [
  {
   "cell_type": "code",
   "execution_count": 1,
   "metadata": {},
   "outputs": [
    {
     "data": {
      "text/plain": [
       "breeding (generic function with 5 methods)"
      ]
     },
     "execution_count": 1,
     "metadata": {},
     "output_type": "execute_result"
    }
   ],
   "source": [
    "using StatsBase\n",
    "using Distributions\n",
    "function breeding(population, fitness, min_values = [-5,-5], max_values = [5,5], mu=1, list_of_functions = [func_1, func2])\n",
    "    offspring = deepcopy(population)\n",
    "    nrow7, ncol7 = size(offspring)\n",
    "    b_offsipring = 0\n",
    "    for i = (0, nrow7)\n",
    "        parent_1, parent_2 = roulette_whell(fitness), roulette_wheel(fitness)\n",
    "        while parent_1 == parent_2\n",
    "            n1 = size(population)\n",
    "            n1 = nr[1]\n",
    "            parent_2 = sample(0:n1)\n",
    "        end\n",
    "        for j = (1:(ncol7-(length(list_of_functions))))\n",
    "            rand = rand(Uniform(0, 1))\n",
    "            rand_b = rand(Uniform(0, 1))\n",
    "            if (rand <= 0.5)\n",
    "                b_offspring = 2*(rand_b)\n",
    "                b_offspring = b_offspring^(1/(mu+1))\n",
    "            else\n",
    "                b_offspring = 1/(2*(1-rand_b))\n",
    "                b_offspring = b_offspring^(1/(mu+1))\n",
    "            end\n",
    "            offspring[i,j] = clamp.(((1 + b_offspring)*population[parent_1, j] + (1 - b_offspring)*population[parent_2, j])/2, min_values[j], max_values[j])\n",
    "            np, npp = size(population)\n",
    "            if(i < (np-1))\n",
    "                offspring[i+1, j] = clamp.(((1 - b_offspring) * population[parent_1, j] + (1 + b_offspring) * population[parent_2, j]) / 2, min_values[j], max_values[j])\n",
    "            end\n",
    "        end\n",
    "        for k = (1, (length(list_of_functions) + 1))\n",
    "            sa, sb = offspring = size(offspring)\n",
    "            offspring[i, end-k] = list_of_functions[end-k](offspring[i,1:sb-length(list_of_functions)])\n",
    "        end\n",
    "    end\n",
    "    return offspring\n",
    "end\n",
    "                "
   ]
  },
  {
   "cell_type": "code",
   "execution_count": null,
   "metadata": {},
   "outputs": [],
   "source": []
  }
 ],
 "metadata": {
  "kernelspec": {
   "display_name": "Julia 1.3.0",
   "language": "julia",
   "name": "julia-1.3"
  },
  "language_info": {
   "file_extension": ".jl",
   "mimetype": "application/julia",
   "name": "julia",
   "version": "1.3.0"
  }
 },
 "nbformat": 4,
 "nbformat_minor": 2
}
