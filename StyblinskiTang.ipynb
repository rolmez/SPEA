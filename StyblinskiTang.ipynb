{
 "cells": [
  {
   "cell_type": "code",
   "execution_count": 1,
   "metadata": {},
   "outputs": [
    {
     "data": {
      "text/plain": [
       "StyblinskiTangFunction (generic function with 1 method)"
      ]
     },
     "execution_count": 1,
     "metadata": {},
     "output_type": "execute_result"
    }
   ],
   "source": [
    "function StyblinskiTangFunction(x)\n",
    "    d = length(x)\n",
    "    sum = 0\n",
    "    for i = 1:d\n",
    "        new = (x[i]^4) - (16*x[i]^2) + (5*x[i])\n",
    "        sum = sum + new\n",
    "    end\n",
    "    return sum/2\n",
    "end"
   ]
  }
 ],
 "metadata": {
  "kernelspec": {
   "display_name": "Julia 1.3.0",
   "language": "julia",
   "name": "julia-1.3"
  },
  "language_info": {
   "file_extension": ".jl",
   "mimetype": "application/julia",
   "name": "julia",
   "version": "1.3.0"
  }
 },
 "nbformat": 4,
 "nbformat_minor": 2
}
