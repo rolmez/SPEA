{
 "cells": [
  {
   "cell_type": "code",
   "execution_count": 1,
   "metadata": {
    "scrolled": true
   },
   "outputs": [
    {
     "data": {
      "text/plain": [
       "sort_population_by_fitness (generic function with 1 method)"
      ]
     },
     "execution_count": 1,
     "metadata": {},
     "output_type": "execute_result"
    }
   ],
   "source": [
    "function sort_population_by_fitness(population, fitness)\n",
    "    idx = sortperm(fitness[:,end])\n",
    "    nrow4, ncol4 = size(population)\n",
    "    fitness_new = zeros(nrow4, 1)\n",
    "    population_new = zeros(nrow4, ncol4)\n",
    "    for i = (1:(nrow4))\n",
    "        fitness_new[i,1] = fitness[idx[i],1]\n",
    "        for k = (1:(ncol4))\n",
    "            population_new[i,k] = population[idx[i],k]\n",
    "        end\n",
    "    end\n",
    "    return population_new, fitness_new\n",
    "end"
   ]
  },
  {
   "cell_type": "code",
   "execution_count": null,
   "metadata": {},
   "outputs": [],
   "source": []
  }
 ],
 "metadata": {
  "kernelspec": {
   "display_name": "Julia 1.3.0",
   "language": "julia",
   "name": "julia-1.3"
  },
  "language_info": {
   "file_extension": ".jl",
   "mimetype": "application/julia",
   "name": "julia",
   "version": "1.3.0"
  }
 },
 "nbformat": 4,
 "nbformat_minor": 2
}
