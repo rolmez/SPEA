{
 "cells": [
  {
   "cell_type": "code",
   "execution_count": 3,
   "metadata": {},
   "outputs": [
    {
     "data": {
      "text/plain": [
       "dominance_function (generic function with 2 methods)"
      ]
     },
     "execution_count": 3,
     "metadata": {},
     "output_type": "execute_result"
    }
   ],
   "source": [
    "function dominance_function(solution_1, solution_2, number_of_functions = 2)\n",
    "    count = 0\n",
    "    dominance = true\n",
    "    for k = (1:number_of_functions)\n",
    "        if (solution_1[end-k] <= solution_2[end-k])\n",
    "            count = count + 1\n",
    "        end\n",
    "    end\n",
    "    if (count == number_of_functions)\n",
    "        dominance = true\n",
    "    else\n",
    "        dominancde = false\n",
    "    end\n",
    "    return dominance\n",
    "end "
   ]
  }
 ],
 "metadata": {
  "kernelspec": {
   "display_name": "Julia 1.3.0",
   "language": "julia",
   "name": "julia-1.3"
  },
  "language_info": {
   "file_extension": ".jl",
   "mimetype": "application/julia",
   "name": "julia",
   "version": "1.3.0"
  }
 },
 "nbformat": 4,
 "nbformat_minor": 2
}
