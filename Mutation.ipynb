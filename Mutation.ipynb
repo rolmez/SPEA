{
 "cells": [
  {
   "cell_type": "code",
   "execution_count": 1,
   "metadata": {},
   "outputs": [
    {
     "data": {
      "text/plain": [
       "mutation (generic function with 6 methods)"
      ]
     },
     "execution_count": 1,
     "metadata": {},
     "output_type": "execute_result"
    }
   ],
   "source": [
    "function mutation(offspring, mutation_rate = 0.1, eta = 1, min_values = [-5, 5], max_values = [5, 5], list_of_functions = [func_1, func_2])\n",
    "    d_mutation = 0\n",
    "    a, _ = size(offspring)\n",
    "    _, b = size(offspring)\n",
    "    for i = 1 : a\n",
    "        for j = 1 : (b - length(list_of_functions))\n",
    "            probability = rand(Uniform(0, 1))\n",
    "            if (probability < mutation_rate)\n",
    "                rand = rand(Uniform(0, 1))\n",
    "                rand_d = rand(Uniform(0, 1))\n",
    "                if(rand <= 0.5)\n",
    "                    d_mutation = 2*(rand_d)\n",
    "                    d_mutation = d_mutation^(1/(eta+1)) - 1\n",
    "                else\n",
    "                    d_mutation = 2 * (1 - rand_d)\n",
    "                    d_mutation = 1 - d_mutation^(1/(eta+1))\n",
    "                end\n",
    "                offspring[i, j] = clamp.((ofspring[i, j] + d_mutation), min_values[j], max_values[j])\n",
    "            end\n",
    "        end\n",
    "        for k = (1:(length(list_of_functions)) + 1)\n",
    "            offspring[i, end-k] = list_of_functions[end-k](offspring[i, (1:(b - length(list_of_functions)))])\n",
    "        end\n",
    "    end\n",
    "    return offspring\n",
    "end"
   ]
  },
  {
   "cell_type": "code",
   "execution_count": null,
   "metadata": {},
   "outputs": [],
   "source": []
  }
 ],
 "metadata": {
  "kernelspec": {
   "display_name": "Julia 1.3.0",
   "language": "julia",
   "name": "julia-1.3"
  },
  "language_info": {
   "file_extension": ".jl",
   "mimetype": "application/julia",
   "name": "julia",
   "version": "1.3.0"
  }
 },
 "nbformat": 4,
 "nbformat_minor": 2
}
