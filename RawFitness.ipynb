{
 "cells": [
  {
   "cell_type": "code",
   "execution_count": 1,
   "metadata": {},
   "outputs": [
    {
     "data": {
      "text/plain": [
       "raw_fitness_function (generic function with 2 methods)"
      ]
     },
     "execution_count": 1,
     "metadata": {},
     "output_type": "execute_result"
    }
   ],
   "source": [
    "function raw_fitness_function(population, number_of_functions = 2)\n",
    "    nrow2, ncol2 = size(population)\n",
    "    strength = zeros(nrow2, 1)\n",
    "    raw_fitness = zeros(nrow2, 1)\n",
    "    for i = 1:(nrow2)\n",
    "        for j = 1:(nrow2)\n",
    "            if(i != j)\n",
    "                if dominance_function(solution_1 =  population[i,:], solution_2 = population[j,:], number_of_functions = number_of_functions)\n",
    "                    strength[i,1] = strength[i,1]+1\n",
    "                end\n",
    "            end\n",
    "        end\n",
    "    end\n",
    "    for i = 1:(nrow2)\n",
    "        for j = 1:(nrow2)\n",
    "            if(i != j)\n",
    "                if dominance_function(solution_1 =  population[i,:], solution_2 = population[j,:], number_of_functions = number_of_functions)\n",
    "                    strength[j,1] = strength[j,1] + strength[i,1]\n",
    "                end\n",
    "            end\n",
    "        end\n",
    "    end\n",
    "    return raw_fitness\n",
    "end"
   ]
  },
  {
   "cell_type": "code",
   "execution_count": null,
   "metadata": {},
   "outputs": [],
   "source": []
  }
 ],
 "metadata": {
  "kernelspec": {
   "display_name": "Julia 1.3.0",
   "language": "julia",
   "name": "julia-1.3"
  },
  "language_info": {
   "file_extension": ".jl",
   "mimetype": "application/julia",
   "name": "julia",
   "version": "1.3.0"
  }
 },
 "nbformat": 4,
 "nbformat_minor": 2
}
