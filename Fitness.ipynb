{
 "cells": [
  {
   "cell_type": "code",
   "execution_count": 1,
   "metadata": {},
   "outputs": [
    {
     "data": {
      "text/plain": [
       "fitness_calculation (generic function with 2 methods)"
      ]
     },
     "execution_count": 1,
     "metadata": {},
     "output_type": "execute_result"
    }
   ],
   "source": [
    "function fitness_calculation(population, raw_fitness, number_of_functions = 2)\n",
    "    k = trunc(Int, (length(population)^(1/2))) - 1\n",
    "    nrow3, ncol3 = size(population)\n",
    "    fitness = zeros(nrow3, 1)\n",
    "    distance = zeros(nrow3, nrow3)\n",
    "    for i = (1:nrow3)\n",
    "        for j = (1:nrow3)\n",
    "            if (i != j)\n",
    "                x = deepcopy(population[i, ncol3 - number_of_functions:end])\n",
    "                y = deepcopy(population[j, ncol3 - number_of_functions:end])\n",
    "                distance[i, j] = euclidean_distance(x = x, y = y)\n",
    "            end\n",
    "        end\n",
    "    end\n",
    "    for i = 1:(nrow3)\n",
    "        distance_ordered = transpose((distance[distance[:,i].sortperm()]))\n",
    "        fitness[i,1] = raw_fitness[i,1] + 1 / (distance_ordered[i,k] + 2)\n",
    "    end\n",
    "    return fitness\n",
    "end"
   ]
  },
  {
   "cell_type": "code",
   "execution_count": null,
   "metadata": {},
   "outputs": [],
   "source": []
  }
 ],
 "metadata": {
  "kernelspec": {
   "display_name": "Julia 1.3.0",
   "language": "julia",
   "name": "julia-1.3"
  },
  "language_info": {
   "file_extension": ".jl",
   "mimetype": "application/julia",
   "name": "julia",
   "version": "1.3.0"
  }
 },
 "nbformat": 4,
 "nbformat_minor": 2
}
