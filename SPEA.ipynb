{
 "cells": [
  {
   "cell_type": "code",
   "execution_count": 4,
   "metadata": {},
   "outputs": [
    {
     "ename": "LoadError",
     "evalue": "UndefVarError: @nbinclude not defined",
     "output_type": "error",
     "traceback": [
      "UndefVarError: @nbinclude not defined",
      ""
     ]
    }
   ],
   "source": [
    "#Algoritma Dosyaları\n",
    "@nbinclude(\"InitializeVariables.ipynb\");\n",
    "@nbinclude(\"Dominance.ipynb\");\n",
    "@nbinlude(\"RawFitness.ipynb\");\n",
    "@nbinclude(\"EuclideanDistance.ipynb\");\n",
    "@nbinlude(\"Fitness.ipynb\");\n",
    "@nbinclude(\"SortPopulationByFitness.ipynb\");\n",
    "@nbinclude(\"Selection.ipynb\");\n",
    "@nbinclude(\"Offspring.ipynb\");\n",
    "@nbinclude(\"Mutation.ipynb\");\n",
    "#Fonksiyon Dosyaları\n",
    "include(\"GriewankFunction.ipynb\");\n",
    "include(\"SumSquares.ipynb\");\n",
    "include(\"McCormick.ipynb\");\n",
    "include(\"Rosenbrock.ipynb\");\n",
    "include(\"Easom.ipynb\");\n",
    "include(\"StyblinskiTang.ipynb\");\n",
    "\n",
    "function strength_pareto_evolutionary_algorith(population_size = 5, archive_size = 5, mutation_rate = 0.1, min_values = [-5, 5], max_values = [5, 5], list_of_functions = [func_1, func_2], generations = 50, mu = 1, eta = 1)\n",
    "    count = 0\n",
    "    population = initial_population(population_size = population_size, min_values = min_values, max_values = max_values, list_of_functions = list_of_functions)\n",
    "    archive = initial_population(population_size = archive_size, min_values = min_values, max_values = max_values, list_of_functions = list_of_functions)\n",
    "    while (count <= generations)\n",
    "        println(\"Generations = \", count)\n",
    "        population = vcat([population, archive])\n",
    "        raw_fitness = raw_fitness_function(population, number_of_functions = length(list_of_functions))\n",
    "        fitness = fitness_calculation(population, raw_fitness, number_of_functions = length(list_of_functions))\n",
    "        population, fitness = sort_population_by_fitness(population, fitness)\n",
    "        population, archive, fitness = population[1:population_size,:], population[1:archive_size,:], fitness[1:archive_size,:]\n",
    "        population = breeding(population, fitness, mu = mu, min_values = min_values, max_values = max_values, list_of_functions = list_of_functions)\n",
    "        population = mutation(population, mutation_rate = mutation_rate, eta = eta, min_values = min_values, max_values = max_values, list_of_functions = list_of_functions)             \n",
    "        count = count + 1\n",
    "    end\n",
    "    return archive\n",
    "end"
   ]
  },
  {
   "cell_type": "code",
   "execution_count": null,
   "metadata": {},
   "outputs": [],
   "source": []
  }
 ],
 "metadata": {
  "kernelspec": {
   "display_name": "Julia 1.3.0",
   "language": "julia",
   "name": "julia-1.3"
  },
  "language_info": {
   "file_extension": ".jl",
   "mimetype": "application/julia",
   "name": "julia",
   "version": "1.3.0"
  }
 },
 "nbformat": 4,
 "nbformat_minor": 2
}
