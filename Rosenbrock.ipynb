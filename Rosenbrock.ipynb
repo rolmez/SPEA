{
 "cells": [
  {
   "cell_type": "code",
   "execution_count": 1,
   "metadata": {},
   "outputs": [
    {
     "data": {
      "text/plain": [
       "RosenbrockFunction (generic function with 1 method)"
      ]
     },
     "execution_count": 1,
     "metadata": {},
     "output_type": "execute_result"
    }
   ],
   "source": [
    "function RosenbrockFunction(x)\n",
    "    sum = 0\n",
    "    d = length(x)\n",
    "    for i = 1:(d-1)\n",
    "        sum = sum + (100*(x[i+1]-(x[i]^2)) + (x[i]-1)^2)\n",
    "    end\n",
    "    return sum\n",
    "end"
   ]
  }
 ],
 "metadata": {
  "kernelspec": {
   "display_name": "Julia 1.3.0",
   "language": "julia",
   "name": "julia-1.3"
  },
  "language_info": {
   "file_extension": ".jl",
   "mimetype": "application/julia",
   "name": "julia",
   "version": "1.3.0"
  }
 },
 "nbformat": 4,
 "nbformat_minor": 2
}
