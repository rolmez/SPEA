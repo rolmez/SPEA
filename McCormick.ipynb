{
 "cells": [
  {
   "cell_type": "code",
   "execution_count": 1,
   "metadata": {},
   "outputs": [
    {
     "data": {
      "text/plain": [
       "McCormick (generic function with 1 method)"
      ]
     },
     "execution_count": 1,
     "metadata": {},
     "output_type": "execute_result"
    }
   ],
   "source": [
    "function McCormick(x1, x2)\n",
    "    term1 = sin(x1+x2)\n",
    "    term2 = (x1-x2)^2\n",
    "    term3 = -1.5*x1\n",
    "    term4 = 2.5*x2\n",
    "    sonuc = term1 + term2 + term3 + term4 + 1\n",
    "    return sonuc\n",
    "end"
   ]
  }
 ],
 "metadata": {
  "kernelspec": {
   "display_name": "Julia 1.3.0",
   "language": "julia",
   "name": "julia-1.3"
  },
  "language_info": {
   "file_extension": ".jl",
   "mimetype": "application/julia",
   "name": "julia",
   "version": "1.3.0"
  }
 },
 "nbformat": 4,
 "nbformat_minor": 2
}
