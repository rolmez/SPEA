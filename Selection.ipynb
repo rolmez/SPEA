{
 "cells": [
  {
   "cell_type": "code",
   "execution_count": 1,
   "metadata": {},
   "outputs": [
    {
     "data": {
      "text/plain": [
       "roulette_wheel (generic function with 1 method)"
      ]
     },
     "execution_count": 1,
     "metadata": {},
     "output_type": "execute_result"
    }
   ],
   "source": [
    "function roulette_wheel(fitness_new)\n",
    "    nrow5, ncol5 = size(fitness_new)\n",
    "    nrow6, ncol6 = size(fitness)\n",
    "    fitness_new = zeros(nrow5, 2)\n",
    "    for i = (1, (nrow6))\n",
    "        fitness[i,1] = 1 / (1 + fitness[i,1] + broadcast(abs,minimum(fitness[:,1])))\n",
    "    end\n",
    "    fit_sum = sum(fitness[:,1])\n",
    "    fitness[1,2] = fitness[1,1]\n",
    "    for i = 2:(nrow6)\n",
    "        fitness[i,2] = (fitness[i,1] + fitness[i,2])\n",
    "    end\n",
    "    for i = 1:(nrow6)\n",
    "        fitness[i,2] = fitness[i,2] / fit_sum\n",
    "    end\n",
    "    ix = 0\n",
    "    random = rand(Uniform(0, 1))\n",
    "    for i = (1:(nrow6))\n",
    "        if (random <= fitness[i,2])\n",
    "            ix = i\n",
    "            break\n",
    "        end\n",
    "    end\n",
    "    return ix\n",
    "end"
   ]
  },
  {
   "cell_type": "code",
   "execution_count": null,
   "metadata": {},
   "outputs": [],
   "source": []
  }
 ],
 "metadata": {
  "kernelspec": {
   "display_name": "Julia 1.3.0",
   "language": "julia",
   "name": "julia-1.3"
  },
  "language_info": {
   "file_extension": ".jl",
   "mimetype": "application/julia",
   "name": "julia",
   "version": "1.3.0"
  }
 },
 "nbformat": 4,
 "nbformat_minor": 2
}
