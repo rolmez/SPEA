{
 "cells": [
  {
   "cell_type": "code",
   "execution_count": 1,
   "metadata": {},
   "outputs": [
    {
     "data": {
      "text/plain": [
       "initial_population (generic function with 5 methods)"
      ]
     },
     "execution_count": 1,
     "metadata": {},
     "output_type": "execute_result"
    }
   ],
   "source": [
    "# Function: Initialize Variables\n",
    "using Distributions\n",
    "function initial_population(population_size = 5, min_values = [-5, 5], max_values = [5, 5], list_of_functions = [func_1, func_2])\n",
    "    population = zeros((population_size, length(min_values) + length(list_of_functions)))\n",
    "    for i = 1:population_size\n",
    "        for j = 1:length(min_values-1)\n",
    "            population[i,j] = rand(min_values[j] : max_values[j])\n",
    "        end\n",
    "        for k = 1:(length(list_of_function)+1)\n",
    "            nrow, ncol = size(population)\n",
    "            population[i,end-k] = list_of_function[end-k](population[i,1:ncol-length(list_of_functions)])\n",
    "        end\n",
    "        return population\n",
    "    end\n",
    "end"
   ]
  },
  {
   "cell_type": "code",
   "execution_count": null,
   "metadata": {},
   "outputs": [],
   "source": []
  }
 ],
 "metadata": {
  "kernelspec": {
   "display_name": "Julia 1.3.0",
   "language": "julia",
   "name": "julia-1.3"
  },
  "language_info": {
   "file_extension": ".jl",
   "mimetype": "application/julia",
   "name": "julia",
   "version": "1.3.0"
  }
 },
 "nbformat": 4,
 "nbformat_minor": 2
}
